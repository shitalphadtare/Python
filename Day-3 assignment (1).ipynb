{
 "cells": [
  {
   "cell_type": "code",
   "execution_count": 3,
   "metadata": {},
   "outputs": [
    {
     "name": "stdout",
     "output_type": "stream",
     "text": [
      "Enter Nth Value5\n",
      "1\n",
      "3\n",
      "6\n",
      "10\n",
      "15\n",
      "Overall sum is 15\n"
     ]
    }
   ],
   "source": [
    "b=int(input(\"Enter Nth Value\"))\n",
    "pass1=1\n",
    "a=0\n",
    "while pass1<=b :\n",
    "    a=a+pass1\n",
    "    pass1=pass1+1\n",
    "    print(a)\n",
    "print(\"Overall sum is\",a)"
   ]
  },
  {
   "cell_type": "markdown",
   "metadata": {},
   "source": [
    "Prime number or Not:"
   ]
  },
  {
   "cell_type": "code",
   "execution_count": 18,
   "metadata": {},
   "outputs": [
    {
     "name": "stdout",
     "output_type": "stream",
     "text": [
      "please enter a number to check prime or not: 6\n",
      "6 is not a prime number\n"
     ]
    }
   ],
   "source": [
    "a = int(input(\"please enter a number to check prime or not: \"))  \n",
    "  \n",
    "if a > 1:  \n",
    "   for i in range(2,a):  \n",
    "       if (a % i) == 0:  \n",
    "           print(a,\"is not a prime number\")   \n",
    "           break  \n",
    "   else:  \n",
    "       print(a,\"is a prime number\")  \n"
   ]
  }
 ],
 "metadata": {
  "kernelspec": {
   "display_name": "Python 3",
   "language": "python",
   "name": "python3"
  },
  "language_info": {
   "codemirror_mode": {
    "name": "ipython",
    "version": 3
   },
   "file_extension": ".py",
   "mimetype": "text/x-python",
   "name": "python",
   "nbconvert_exporter": "python",
   "pygments_lexer": "ipython3",
   "version": "3.7.6"
  }
 },
 "nbformat": 4,
 "nbformat_minor": 4
}
