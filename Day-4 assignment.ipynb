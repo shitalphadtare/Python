{
 "cells": [
  {
   "cell_type": "code",
   "execution_count": 14,
   "metadata": {},
   "outputs": [
    {
     "name": "stdout",
     "output_type": "stream",
     "text": [
      "Enter Sentence : what we think we become\n",
      "Enter a word : we\n",
      "Sentence :  what we think we become \n",
      "String to find :  we\n",
      "index positions [5, 14]\n"
     ]
    }
   ],
   "source": [
    "a = input(\"Enter Sentence : \")\n",
    "b = input(\"Enter a word : \")\n",
    "print (\"Sentence : \", a, \"\\nString to find : \", b) \n",
    "res = [] \n",
    "flag = 0\n",
    "k = 0\n",
    "\n",
    "for i in range(0, len(a)): \n",
    "    k = i \n",
    "    flag = 0\n",
    "    for j in range(0, len(b)): \n",
    "        if a[k] != b[j]: \n",
    "            flag = 1\n",
    "        if flag: \n",
    "            break\n",
    "        k = k + 1\n",
    "    if flag == 0: \n",
    "        res.append(i) \n",
    "print (\"index positions\", str(res)) "
   ]
  },
  {
   "cell_type": "markdown",
   "metadata": {},
   "source": [
    "islower() and isupper()"
   ]
  },
  {
   "cell_type": "code",
   "execution_count": 34,
   "metadata": {},
   "outputs": [
    {
     "data": {
      "text/plain": [
       "False"
      ]
     },
     "execution_count": 34,
     "metadata": {},
     "output_type": "execute_result"
    }
   ],
   "source": [
    "a = \"What we think we become\"\n",
    "a.islower()"
   ]
  },
  {
   "cell_type": "code",
   "execution_count": 19,
   "metadata": {},
   "outputs": [
    {
     "data": {
      "text/plain": [
       "True"
      ]
     },
     "execution_count": 19,
     "metadata": {},
     "output_type": "execute_result"
    }
   ],
   "source": [
    "a = \"what we think we become\"\n",
    "a.islower()"
   ]
  },
  {
   "cell_type": "code",
   "execution_count": 32,
   "metadata": {},
   "outputs": [
    {
     "name": "stdout",
     "output_type": "stream",
     "text": [
      "Enter a String Shital\n",
      "String is not in Upper Case\n"
     ]
    }
   ],
   "source": [
    "a=input(\"Enter a String \")\n",
    "if a.isupper()==False:\n",
    "    print(\"String is not in Upper Case\")\n",
    "else :\n",
    "    print(f\"{a} string is in Upper case\")"
   ]
  },
  {
   "cell_type": "code",
   "execution_count": 33,
   "metadata": {},
   "outputs": [
    {
     "name": "stdout",
     "output_type": "stream",
     "text": [
      "Enter a String SHITAL\n",
      "SHITAL string is in Upper case\n"
     ]
    }
   ],
   "source": [
    "a=input(\"Enter a String \")\n",
    "if a.isupper()==False:\n",
    "    print(\"String is not in Upper Case\")\n",
    "else :\n",
    "    print(f\"{a} string is in Upper case\")"
   ]
  }
 ],
 "metadata": {
  "kernelspec": {
   "display_name": "Python 3",
   "language": "python",
   "name": "python3"
  },
  "language_info": {
   "codemirror_mode": {
    "name": "ipython",
    "version": 3
   },
   "file_extension": ".py",
   "mimetype": "text/x-python",
   "name": "python",
   "nbconvert_exporter": "python",
   "pygments_lexer": "ipython3",
   "version": "3.7.6"
  }
 },
 "nbformat": 4,
 "nbformat_minor": 4
}
